{
 "cells": [
  {
   "cell_type": "code",
   "execution_count": 8,
   "id": "29325aa1-a887-4e23-89a3-01ce97be3674",
   "metadata": {},
   "outputs": [],
   "source": [
    "import heapq"
   ]
  },
  {
   "cell_type": "code",
   "execution_count": 27,
   "id": "15117eba-0593-4100-a62d-e4f103226ade",
   "metadata": {},
   "outputs": [],
   "source": [
    "def dijkstra(graph, start, end):\n",
    "   \n",
    "    distances = {node: float('inf') for node in graph}\n",
    "   \n",
    "    distances[start] = 0\n",
    "    \n",
    "    priority_queue = [(0, start)]\n",
    "   \n",
    "    previous_nodes = {node: None for node in graph}\n",
    "\n",
    "    while priority_queue:\n",
    "        current_distance, current_node = heapq.heappop(priority_queue)\n",
    "\n",
    "\n",
    "        if current_distance > distances[current_node]:\n",
    "            continue\n",
    "\n",
    "        \n",
    "        for neighbor, weight in graph[current_node]:\n",
    "            distance = current_distance + weight\n",
    "\n",
    "            \n",
    "            if distance < distances[neighbor]:\n",
    "                distances[neighbor] = distance\n",
    "                previous_nodes[neighbor] = current_node\n",
    "                heapq.heappush(priority_queue, (distance, neighbor))\n",
    "\n",
    "                path = []\n",
    "                current_node = end\n",
    "                while current_node is not None:\n",
    "                    path.append(current_node)\n",
    "                    current_node = previous_nodes[current_node]\n",
    "                path = path[::-1] \n",
    "    \n",
    "    return distances[end], path"
   ]
  },
  {
   "cell_type": "code",
   "execution_count": 28,
   "id": "b6c39211-a3f1-48e2-9e41-9ce4ab92300d",
   "metadata": {},
   "outputs": [],
   "source": [
    "graph = {\n",
    "    'DBN': [('PMB', 89), ('RBY', 112)],\n",
    "    'PMB': [('DBN', 89), ('HMT', 209), ('RBY', 70)],\n",
    "    'RBY': [('DBN', 112), ('PMB', 70), ('HMT', 100), ('VRT', 106)],\n",
    "    'RBY': [('DBN', 112), ('PMB', 70), ('HMT', 100), ('VRT', 106)],\n",
    "    'HMT': [('PMB', 209), ('RBY', 100), ('VRT', 41), ('JHB', 210)],\n",
    "    'VRT': [('RBY', 106), ('HMT', 41), ('JHB', 106)],\n",
    "    'JHB': [('HMT', 210), ('VRT', 106)]\n",
    "}"
   ]
  },
  {
   "cell_type": "code",
   "execution_count": 29,
   "id": "9c7523de-00ba-4e99-bc48-69810d76ced7",
   "metadata": {},
   "outputs": [],
   "source": [
    "start_node = 'DBN'\n",
    "end_node = 'JHB'"
   ]
  },
  {
   "cell_type": "code",
   "execution_count": 30,
   "id": "fbf967ee-016f-4c9b-b1db-02c80fb0315f",
   "metadata": {},
   "outputs": [],
   "source": [
    "shortest_distance, path = dijkstra(graph, start_node, end_node)"
   ]
  },
  {
   "cell_type": "code",
   "execution_count": 31,
   "id": "5e9d177e-2f48-49f5-a923-469c84636a15",
   "metadata": {},
   "outputs": [
    {
     "name": "stdout",
     "output_type": "stream",
     "text": [
      "The shortest path from DBN to JHB is ['VRT', 'JHB'] with a total cost of 324\n"
     ]
    }
   ],
   "source": [
    "print(f\"The shortest path from {start_node} to {end_node} is {path} with a total cost of {shortest_distance}\")"
   ]
  },
  {
   "cell_type": "markdown",
   "id": "a75dbf3c-b627-485b-9ff7-04f7ad79a5c3",
   "metadata": {},
   "source": [
    "STUDENT SURNAME\tSTUDENT INITIAL\tSTUDENT NUMBER\r\n",
    "LUTHULI\tN\t22240573\r\n",
    "DUBE\tT\t22317352\r",
    "NTS\r\n",
    "\r\n",
    "\r\n",
    " \r\n",
    "\r\n",
    "Source: DBN\r\n",
    "Destination: JHB\r\n",
    "Adjacent nodes to the source: DBN\r\n",
    "DBN neighbours: PMB, RBY\r\n",
    "\r\n",
    "Cost of PMB = cost of DBN + distance between DBN and PMB \r\n",
    "                           = 0 + 89\r\n",
    "                           = 89\r\n",
    "Cost of RBY = cost of DBN + distance between DBN and RBY \r\n",
    "                           = 0 + 112\r\n",
    "                           = 112\r\n",
    "PMB neighbours: RBY, HMT\r\n",
    "Cost of HMT = cost of PMB + distance between PMB and HMT \r\n",
    "                           = 89 + 209\r\n",
    "                           = 298\r\n",
    "Cost of RBY = cost of PMB + distance between PMB and RBY\r\n",
    "                           = 89 + 70\r\n",
    "                           = 159\r\n",
    "159> 112\r\n",
    "\r\n",
    "RBY neighbours: HMT, VRT\r\n",
    "Cost of HMT = cost of RBY + distance between RBY and HMT \r\n",
    "                           = 112 + 110\r\n",
    "                           = 222\r\n",
    "298>222\r\n",
    "Cost of VRT = cost of RBY + distance between RBY and VRT\r\n",
    "                           = 112 + 106\r\n",
    "                           = 218\r\n",
    "\r\n",
    "HMT neighbours: JHB, VRT\r\n",
    "Cost of JHB = cost of HMT + distance between HMT and JHB\r\n",
    "                           = 222 + 210                 \r\n",
    "                           = 432   \r\n",
    "Cost of VRT = cost of HMT + distance between HMT and VRT\r\n",
    "                           = 222 + 41\r\n",
    "                           = 261\r\n",
    "\r\n",
    "VRT neighbours: HMT, JHB\r\n",
    "Cost of JHB = cost of VRT+ distance between VRT and JHB \r\n",
    "                           = 218 + 106\r\n",
    "                           = 324\r\n",
    "432 > 324\r\n",
    "Cost of HMT = cost of VRT + distance between VRT and HMT\r\n",
    "                           = 218 +41\r\n",
    "                           = 259\r\n",
    "\r\n",
    " \r\n",
    "NODE\tSHORTEST DISTANCE\tPREVIOUS \r\n",
    "DBN\t0\t\r\n",
    "HMT\t298   222\r\n",
    "PMB    RBY\r",
    "\r\n",
    "JHB\t432   324\r\n",
    "HMT    VRT\r",
    "\r\n",
    "PMB\t89\tDBN\r\n",
    "RBY\t112\tDBN\r\n",
    "VRT\t218\tRBY\r\n",
    "\r\n",
    "Therefore, The shortest path from DBN to JHB is  DBN RBYVRTJHB with the cost of 324\r\n"
   ]
  },
  {
   "cell_type": "code",
   "execution_count": null,
   "id": "bface509-bc7d-469b-83c7-03714b05692e",
   "metadata": {},
   "outputs": [],
   "source": []
  },
  {
   "cell_type": "code",
   "execution_count": null,
   "id": "bd21d9a2-8a95-44a6-99e0-e4bffa0eef90",
   "metadata": {},
   "outputs": [],
   "source": []
  },
  {
   "cell_type": "code",
   "execution_count": null,
   "id": "35ccda2a-b4e3-4dcf-bb81-1e545b14413e",
   "metadata": {},
   "outputs": [],
   "source": []
  }
 ],
 "metadata": {
  "kernelspec": {
   "display_name": "Python 3 (ipykernel)",
   "language": "python",
   "name": "python3"
  },
  "language_info": {
   "codemirror_mode": {
    "name": "ipython",
    "version": 3
   },
   "file_extension": ".py",
   "mimetype": "text/x-python",
   "name": "python",
   "nbconvert_exporter": "python",
   "pygments_lexer": "ipython3",
   "version": "3.11.7"
  }
 },
 "nbformat": 4,
 "nbformat_minor": 5
}
